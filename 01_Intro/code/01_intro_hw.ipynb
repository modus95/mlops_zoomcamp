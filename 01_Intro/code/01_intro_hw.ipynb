{
 "cells": [
  {
   "cell_type": "code",
   "execution_count": 1,
   "id": "a8188a2a",
   "metadata": {},
   "outputs": [],
   "source": [
    "import pandas as pd"
   ]
  },
  {
   "cell_type": "markdown",
   "id": "2fd98ac2",
   "metadata": {},
   "source": [
    "**Load train data**"
   ]
  },
  {
   "cell_type": "code",
   "execution_count": 2,
   "id": "ac154403",
   "metadata": {},
   "outputs": [
    {
     "name": "stdout",
     "output_type": "stream",
     "text": [
      "(1154112, 7)\n"
     ]
    },
    {
     "data": {
      "text/html": [
       "<div>\n",
       "<style scoped>\n",
       "    .dataframe tbody tr th:only-of-type {\n",
       "        vertical-align: middle;\n",
       "    }\n",
       "\n",
       "    .dataframe tbody tr th {\n",
       "        vertical-align: top;\n",
       "    }\n",
       "\n",
       "    .dataframe thead th {\n",
       "        text-align: right;\n",
       "    }\n",
       "</style>\n",
       "<table border=\"1\" class=\"dataframe\">\n",
       "  <thead>\n",
       "    <tr style=\"text-align: right;\">\n",
       "      <th></th>\n",
       "      <th>dispatching_base_num</th>\n",
       "      <th>pickup_datetime</th>\n",
       "      <th>dropOff_datetime</th>\n",
       "      <th>PUlocationID</th>\n",
       "      <th>DOlocationID</th>\n",
       "      <th>SR_Flag</th>\n",
       "      <th>Affiliated_base_number</th>\n",
       "    </tr>\n",
       "  </thead>\n",
       "  <tbody>\n",
       "    <tr>\n",
       "      <th>0</th>\n",
       "      <td>B00009</td>\n",
       "      <td>2021-01-01 00:27:00</td>\n",
       "      <td>2021-01-01 00:44:00</td>\n",
       "      <td>NaN</td>\n",
       "      <td>NaN</td>\n",
       "      <td>None</td>\n",
       "      <td>B00009</td>\n",
       "    </tr>\n",
       "    <tr>\n",
       "      <th>1</th>\n",
       "      <td>B00009</td>\n",
       "      <td>2021-01-01 00:50:00</td>\n",
       "      <td>2021-01-01 01:07:00</td>\n",
       "      <td>NaN</td>\n",
       "      <td>NaN</td>\n",
       "      <td>None</td>\n",
       "      <td>B00009</td>\n",
       "    </tr>\n",
       "    <tr>\n",
       "      <th>2</th>\n",
       "      <td>B00013</td>\n",
       "      <td>2021-01-01 00:01:00</td>\n",
       "      <td>2021-01-01 01:51:00</td>\n",
       "      <td>NaN</td>\n",
       "      <td>NaN</td>\n",
       "      <td>None</td>\n",
       "      <td>B00013</td>\n",
       "    </tr>\n",
       "    <tr>\n",
       "      <th>3</th>\n",
       "      <td>B00037</td>\n",
       "      <td>2021-01-01 00:13:09</td>\n",
       "      <td>2021-01-01 00:21:26</td>\n",
       "      <td>NaN</td>\n",
       "      <td>72.0</td>\n",
       "      <td>None</td>\n",
       "      <td>B00037</td>\n",
       "    </tr>\n",
       "    <tr>\n",
       "      <th>4</th>\n",
       "      <td>B00037</td>\n",
       "      <td>2021-01-01 00:38:31</td>\n",
       "      <td>2021-01-01 00:53:44</td>\n",
       "      <td>NaN</td>\n",
       "      <td>61.0</td>\n",
       "      <td>None</td>\n",
       "      <td>B00037</td>\n",
       "    </tr>\n",
       "  </tbody>\n",
       "</table>\n",
       "</div>"
      ],
      "text/plain": [
       "  dispatching_base_num     pickup_datetime    dropOff_datetime  PUlocationID  \\\n",
       "0               B00009 2021-01-01 00:27:00 2021-01-01 00:44:00           NaN   \n",
       "1               B00009 2021-01-01 00:50:00 2021-01-01 01:07:00           NaN   \n",
       "2               B00013 2021-01-01 00:01:00 2021-01-01 01:51:00           NaN   \n",
       "3               B00037 2021-01-01 00:13:09 2021-01-01 00:21:26           NaN   \n",
       "4               B00037 2021-01-01 00:38:31 2021-01-01 00:53:44           NaN   \n",
       "\n",
       "   DOlocationID SR_Flag Affiliated_base_number  \n",
       "0           NaN    None                 B00009  \n",
       "1           NaN    None                 B00009  \n",
       "2           NaN    None                 B00013  \n",
       "3          72.0    None                 B00037  \n",
       "4          61.0    None                 B00037  "
      ]
     },
     "execution_count": 2,
     "metadata": {},
     "output_type": "execute_result"
    }
   ],
   "source": [
    "df_jan_21 = pd.read_parquet('../data/fhv_tripdata_2021-01.parquet')\n",
    "\n",
    "print(df_jan_21.shape)\n",
    "df_jan_21.head()"
   ]
  },
  {
   "cell_type": "code",
   "execution_count": 3,
   "id": "e6b51715",
   "metadata": {},
   "outputs": [
    {
     "name": "stdout",
     "output_type": "stream",
     "text": [
      "<class 'pandas.core.frame.DataFrame'>\n",
      "RangeIndex: 1154112 entries, 0 to 1154111\n",
      "Data columns (total 7 columns):\n",
      " #   Column                  Non-Null Count    Dtype         \n",
      "---  ------                  --------------    -----         \n",
      " 0   dispatching_base_num    1154112 non-null  object        \n",
      " 1   pickup_datetime         1154112 non-null  datetime64[ns]\n",
      " 2   dropOff_datetime        1154112 non-null  datetime64[ns]\n",
      " 3   PUlocationID            195845 non-null   float64       \n",
      " 4   DOlocationID            991892 non-null   float64       \n",
      " 5   SR_Flag                 0 non-null        object        \n",
      " 6   Affiliated_base_number  1153227 non-null  object        \n",
      "dtypes: datetime64[ns](2), float64(2), object(3)\n",
      "memory usage: 61.6+ MB\n"
     ]
    }
   ],
   "source": [
    "df_jan_21.info()"
   ]
  },
  {
   "cell_type": "code",
   "execution_count": 4,
   "id": "b2e3684d",
   "metadata": {},
   "outputs": [
    {
     "data": {
      "text/html": [
       "<div>\n",
       "<style scoped>\n",
       "    .dataframe tbody tr th:only-of-type {\n",
       "        vertical-align: middle;\n",
       "    }\n",
       "\n",
       "    .dataframe tbody tr th {\n",
       "        vertical-align: top;\n",
       "    }\n",
       "\n",
       "    .dataframe thead th {\n",
       "        text-align: right;\n",
       "    }\n",
       "</style>\n",
       "<table border=\"1\" class=\"dataframe\">\n",
       "  <thead>\n",
       "    <tr style=\"text-align: right;\">\n",
       "      <th></th>\n",
       "      <th>dispatching_base_num</th>\n",
       "      <th>pickup_datetime</th>\n",
       "      <th>dropOff_datetime</th>\n",
       "      <th>PUlocationID</th>\n",
       "      <th>DOlocationID</th>\n",
       "      <th>SR_Flag</th>\n",
       "      <th>Affiliated_base_number</th>\n",
       "      <th>duration_min</th>\n",
       "    </tr>\n",
       "  </thead>\n",
       "  <tbody>\n",
       "    <tr>\n",
       "      <th>0</th>\n",
       "      <td>B00009</td>\n",
       "      <td>2021-01-01 00:27:00</td>\n",
       "      <td>2021-01-01 00:44:00</td>\n",
       "      <td>NaN</td>\n",
       "      <td>NaN</td>\n",
       "      <td>None</td>\n",
       "      <td>B00009</td>\n",
       "      <td>17.0000</td>\n",
       "    </tr>\n",
       "    <tr>\n",
       "      <th>1</th>\n",
       "      <td>B00009</td>\n",
       "      <td>2021-01-01 00:50:00</td>\n",
       "      <td>2021-01-01 01:07:00</td>\n",
       "      <td>NaN</td>\n",
       "      <td>NaN</td>\n",
       "      <td>None</td>\n",
       "      <td>B00009</td>\n",
       "      <td>17.0000</td>\n",
       "    </tr>\n",
       "    <tr>\n",
       "      <th>2</th>\n",
       "      <td>B00013</td>\n",
       "      <td>2021-01-01 00:01:00</td>\n",
       "      <td>2021-01-01 01:51:00</td>\n",
       "      <td>NaN</td>\n",
       "      <td>NaN</td>\n",
       "      <td>None</td>\n",
       "      <td>B00013</td>\n",
       "      <td>110.0000</td>\n",
       "    </tr>\n",
       "    <tr>\n",
       "      <th>3</th>\n",
       "      <td>B00037</td>\n",
       "      <td>2021-01-01 00:13:09</td>\n",
       "      <td>2021-01-01 00:21:26</td>\n",
       "      <td>NaN</td>\n",
       "      <td>72.0</td>\n",
       "      <td>None</td>\n",
       "      <td>B00037</td>\n",
       "      <td>8.2833</td>\n",
       "    </tr>\n",
       "    <tr>\n",
       "      <th>4</th>\n",
       "      <td>B00037</td>\n",
       "      <td>2021-01-01 00:38:31</td>\n",
       "      <td>2021-01-01 00:53:44</td>\n",
       "      <td>NaN</td>\n",
       "      <td>61.0</td>\n",
       "      <td>None</td>\n",
       "      <td>B00037</td>\n",
       "      <td>15.2167</td>\n",
       "    </tr>\n",
       "  </tbody>\n",
       "</table>\n",
       "</div>"
      ],
      "text/plain": [
       "  dispatching_base_num     pickup_datetime    dropOff_datetime  PUlocationID  \\\n",
       "0               B00009 2021-01-01 00:27:00 2021-01-01 00:44:00           NaN   \n",
       "1               B00009 2021-01-01 00:50:00 2021-01-01 01:07:00           NaN   \n",
       "2               B00013 2021-01-01 00:01:00 2021-01-01 01:51:00           NaN   \n",
       "3               B00037 2021-01-01 00:13:09 2021-01-01 00:21:26           NaN   \n",
       "4               B00037 2021-01-01 00:38:31 2021-01-01 00:53:44           NaN   \n",
       "\n",
       "   DOlocationID SR_Flag Affiliated_base_number  duration_min  \n",
       "0           NaN    None                 B00009       17.0000  \n",
       "1           NaN    None                 B00009       17.0000  \n",
       "2           NaN    None                 B00013      110.0000  \n",
       "3          72.0    None                 B00037        8.2833  \n",
       "4          61.0    None                 B00037       15.2167  "
      ]
     },
     "execution_count": 4,
     "metadata": {},
     "output_type": "execute_result"
    }
   ],
   "source": [
    "df_jan_21['duration_min'] = \\\n",
    "                round((df_jan_21['dropOff_datetime'] - df_jan_21['pickup_datetime']).dt.total_seconds() / 60, 4)\n",
    "\n",
    "df_jan_21.head()"
   ]
  },
  {
   "cell_type": "markdown",
   "id": "6b5a8ce3",
   "metadata": {},
   "source": [
    "**Q2. Average duration FHV January**"
   ]
  },
  {
   "cell_type": "code",
   "execution_count": 6,
   "id": "da5dcebb",
   "metadata": {},
   "outputs": [
    {
     "name": "stdout",
     "output_type": "stream",
     "text": [
      "Average duration in Jan 21 - 19.17 min.\n"
     ]
    }
   ],
   "source": [
    "print('Average duration in Jan 21 - {:.2f} min.'.format(df_jan_21['duration_min'].mean()))"
   ]
  },
  {
   "cell_type": "markdown",
   "id": "1a4dd249",
   "metadata": {},
   "source": [
    "**Duration distribution**"
   ]
  },
  {
   "cell_type": "code",
   "execution_count": 7,
   "id": "e391e1d7",
   "metadata": {},
   "outputs": [
    {
     "data": {
      "text/plain": [
       "count    1.154112e+06\n",
       "mean     1.916722e+01\n",
       "std      3.986922e+02\n",
       "min      1.670000e-02\n",
       "25%      7.766700e+00\n",
       "50%      1.340000e+01\n",
       "75%      2.228330e+01\n",
       "max      4.233710e+05\n",
       "Name: duration_min, dtype: float64"
      ]
     },
     "execution_count": 7,
     "metadata": {},
     "output_type": "execute_result"
    }
   ],
   "source": [
    "df_jan_21['duration_min'].describe()"
   ]
  },
  {
   "cell_type": "code",
   "execution_count": 8,
   "id": "5ceca519",
   "metadata": {},
   "outputs": [
    {
     "data": {
      "image/png": "[encoded data removed]",
      "text/plain": [
       "<Figure size 432x288 with 1 Axes>"
      ]
     },
     "metadata": {
      "needs_background": "light"
     },
     "output_type": "display_data"
    }
   ],
   "source": [
    "df_jan_21['duration_min'].plot(kind='hist', grid=True, xlim=(0,10000), figsize=(6,4), bins =100);"
   ]
  },
  {
   "cell_type": "code",
   "execution_count": 9,
   "id": "88635b1f",
   "metadata": {},
   "outputs": [
    {
     "data": {
      "text/plain": [
       "True     1109826\n",
       "False      44286\n",
       "Name: duration_min, dtype: int64"
      ]
     },
     "execution_count": 9,
     "metadata": {},
     "output_type": "execute_result"
    }
   ],
   "source": [
    "df_jan_21['duration_min'].between(1,60).value_counts()"
   ]
  },
  {
   "cell_type": "markdown",
   "id": "35dd4c38",
   "metadata": {},
   "source": [
    "Leave the rides with duration values between 1 and 60 min. So have to drop 44286 rows"
   ]
  },
  {
   "cell_type": "code",
   "execution_count": 10,
   "id": "389f6db1",
   "metadata": {},
   "outputs": [
    {
     "name": "stdout",
     "output_type": "stream",
     "text": [
      "1154112\n"
     ]
    },
    {
     "data": {
      "text/plain": [
       "1109826"
      ]
     },
     "execution_count": 10,
     "metadata": {},
     "output_type": "execute_result"
    }
   ],
   "source": [
    "print(len(df_jan_21))\n",
    "\n",
    "df_jan_21 = df_jan_21[df_jan_21['duration_min'].between(1,60)].reset_index(drop=True)\n",
    "len(df_jan_21)"
   ]
  },
  {
   "cell_type": "markdown",
   "id": "8bf6d3b1",
   "metadata": {},
   "source": [
    "**Q3. Missing Values for PUlocationID, DOlocationID**"
   ]
  },
  {
   "cell_type": "code",
   "execution_count": 11,
   "id": "1f1b2908",
   "metadata": {},
   "outputs": [
    {
     "name": "stdout",
     "output_type": "stream",
     "text": [
      "83.53%\n"
     ]
    }
   ],
   "source": [
    "# the factions of missing values for the pickup location ID\n",
    "print('{:.2%}'.format(df_jan_21['PUlocationID'].isna().sum() / len(df_jan_21)))"
   ]
  },
  {
   "cell_type": "code",
   "execution_count": 12,
   "id": "a9de362c",
   "metadata": {},
   "outputs": [
    {
     "data": {
      "text/html": [
       "<div>\n",
       "<style scoped>\n",
       "    .dataframe tbody tr th:only-of-type {\n",
       "        vertical-align: middle;\n",
       "    }\n",
       "\n",
       "    .dataframe tbody tr th {\n",
       "        vertical-align: top;\n",
       "    }\n",
       "\n",
       "    .dataframe thead th {\n",
       "        text-align: right;\n",
       "    }\n",
       "</style>\n",
       "<table border=\"1\" class=\"dataframe\">\n",
       "  <thead>\n",
       "    <tr style=\"text-align: right;\">\n",
       "      <th></th>\n",
       "      <th>dispatching_base_num</th>\n",
       "      <th>pickup_datetime</th>\n",
       "      <th>dropOff_datetime</th>\n",
       "      <th>PUlocationID</th>\n",
       "      <th>DOlocationID</th>\n",
       "      <th>SR_Flag</th>\n",
       "      <th>Affiliated_base_number</th>\n",
       "      <th>duration_min</th>\n",
       "    </tr>\n",
       "  </thead>\n",
       "  <tbody>\n",
       "    <tr>\n",
       "      <th>0</th>\n",
       "      <td>B00009</td>\n",
       "      <td>2021-01-01 00:27:00</td>\n",
       "      <td>2021-01-01 00:44:00</td>\n",
       "      <td>-1.0</td>\n",
       "      <td>-1.0</td>\n",
       "      <td>None</td>\n",
       "      <td>B00009</td>\n",
       "      <td>17.0000</td>\n",
       "    </tr>\n",
       "    <tr>\n",
       "      <th>1</th>\n",
       "      <td>B00009</td>\n",
       "      <td>2021-01-01 00:50:00</td>\n",
       "      <td>2021-01-01 01:07:00</td>\n",
       "      <td>-1.0</td>\n",
       "      <td>-1.0</td>\n",
       "      <td>None</td>\n",
       "      <td>B00009</td>\n",
       "      <td>17.0000</td>\n",
       "    </tr>\n",
       "    <tr>\n",
       "      <th>2</th>\n",
       "      <td>B00037</td>\n",
       "      <td>2021-01-01 00:13:09</td>\n",
       "      <td>2021-01-01 00:21:26</td>\n",
       "      <td>-1.0</td>\n",
       "      <td>72.0</td>\n",
       "      <td>None</td>\n",
       "      <td>B00037</td>\n",
       "      <td>8.2833</td>\n",
       "    </tr>\n",
       "    <tr>\n",
       "      <th>3</th>\n",
       "      <td>B00037</td>\n",
       "      <td>2021-01-01 00:38:31</td>\n",
       "      <td>2021-01-01 00:53:44</td>\n",
       "      <td>-1.0</td>\n",
       "      <td>61.0</td>\n",
       "      <td>None</td>\n",
       "      <td>B00037</td>\n",
       "      <td>15.2167</td>\n",
       "    </tr>\n",
       "    <tr>\n",
       "      <th>4</th>\n",
       "      <td>B00037</td>\n",
       "      <td>2021-01-01 00:59:02</td>\n",
       "      <td>2021-01-01 01:08:05</td>\n",
       "      <td>-1.0</td>\n",
       "      <td>71.0</td>\n",
       "      <td>None</td>\n",
       "      <td>B00037</td>\n",
       "      <td>9.0500</td>\n",
       "    </tr>\n",
       "  </tbody>\n",
       "</table>\n",
       "</div>"
      ],
      "text/plain": [
       "  dispatching_base_num     pickup_datetime    dropOff_datetime  PUlocationID  \\\n",
       "0               B00009 2021-01-01 00:27:00 2021-01-01 00:44:00          -1.0   \n",
       "1               B00009 2021-01-01 00:50:00 2021-01-01 01:07:00          -1.0   \n",
       "2               B00037 2021-01-01 00:13:09 2021-01-01 00:21:26          -1.0   \n",
       "3               B00037 2021-01-01 00:38:31 2021-01-01 00:53:44          -1.0   \n",
       "4               B00037 2021-01-01 00:59:02 2021-01-01 01:08:05          -1.0   \n",
       "\n",
       "   DOlocationID SR_Flag Affiliated_base_number  duration_min  \n",
       "0          -1.0    None                 B00009       17.0000  \n",
       "1          -1.0    None                 B00009       17.0000  \n",
       "2          72.0    None                 B00037        8.2833  \n",
       "3          61.0    None                 B00037       15.2167  \n",
       "4          71.0    None                 B00037        9.0500  "
      ]
     },
     "execution_count": 12,
     "metadata": {},
     "output_type": "execute_result"
    }
   ],
   "source": [
    "df_jan_21[['PUlocationID', 'DOlocationID']] = df_jan_21[['PUlocationID', 'DOlocationID']].fillna(-1)\n",
    "\n",
    "df_jan_21.head()"
   ]
  },
  {
   "cell_type": "markdown",
   "id": "594d4306",
   "metadata": {},
   "source": [
    "**Q4. One-hot encoding**"
   ]
  },
  {
   "cell_type": "code",
   "execution_count": 13,
   "id": "f30007e1",
   "metadata": {},
   "outputs": [
    {
     "name": "stdout",
     "output_type": "stream",
     "text": [
      "(1109826, 525)\n"
     ]
    }
   ],
   "source": [
    "X_train = df_jan_21[['PUlocationID', 'DOlocationID']].copy()\n",
    "X_train = pd.get_dummies(X_train, columns=['PUlocationID', 'DOlocationID'])\n",
    "\n",
    "print(X_train.shape)"
   ]
  },
  {
   "cell_type": "code",
   "execution_count": 14,
   "id": "e451edc6",
   "metadata": {},
   "outputs": [
    {
     "data": {
      "text/html": [
       "<div>\n",
       "<style scoped>\n",
       "    .dataframe tbody tr th:only-of-type {\n",
       "        vertical-align: middle;\n",
       "    }\n",
       "\n",
       "    .dataframe tbody tr th {\n",
       "        vertical-align: top;\n",
       "    }\n",
       "\n",
       "    .dataframe thead th {\n",
       "        text-align: right;\n",
       "    }\n",
       "</style>\n",
       "<table border=\"1\" class=\"dataframe\">\n",
       "  <thead>\n",
       "    <tr style=\"text-align: right;\">\n",
       "      <th></th>\n",
       "      <th>PUlocationID_-1.0</th>\n",
       "      <th>PUlocationID_1.0</th>\n",
       "      <th>PUlocationID_2.0</th>\n",
       "      <th>PUlocationID_3.0</th>\n",
       "      <th>PUlocationID_4.0</th>\n",
       "      <th>PUlocationID_5.0</th>\n",
       "      <th>PUlocationID_6.0</th>\n",
       "      <th>PUlocationID_7.0</th>\n",
       "      <th>PUlocationID_8.0</th>\n",
       "      <th>PUlocationID_9.0</th>\n",
       "      <th>...</th>\n",
       "      <th>DOlocationID_256.0</th>\n",
       "      <th>DOlocationID_257.0</th>\n",
       "      <th>DOlocationID_258.0</th>\n",
       "      <th>DOlocationID_259.0</th>\n",
       "      <th>DOlocationID_260.0</th>\n",
       "      <th>DOlocationID_261.0</th>\n",
       "      <th>DOlocationID_262.0</th>\n",
       "      <th>DOlocationID_263.0</th>\n",
       "      <th>DOlocationID_264.0</th>\n",
       "      <th>DOlocationID_265.0</th>\n",
       "    </tr>\n",
       "  </thead>\n",
       "  <tbody>\n",
       "    <tr>\n",
       "      <th>0</th>\n",
       "      <td>1</td>\n",
       "      <td>0</td>\n",
       "      <td>0</td>\n",
       "      <td>0</td>\n",
       "      <td>0</td>\n",
       "      <td>0</td>\n",
       "      <td>0</td>\n",
       "      <td>0</td>\n",
       "      <td>0</td>\n",
       "      <td>0</td>\n",
       "      <td>...</td>\n",
       "      <td>0</td>\n",
       "      <td>0</td>\n",
       "      <td>0</td>\n",
       "      <td>0</td>\n",
       "      <td>0</td>\n",
       "      <td>0</td>\n",
       "      <td>0</td>\n",
       "      <td>0</td>\n",
       "      <td>0</td>\n",
       "      <td>0</td>\n",
       "    </tr>\n",
       "    <tr>\n",
       "      <th>1</th>\n",
       "      <td>1</td>\n",
       "      <td>0</td>\n",
       "      <td>0</td>\n",
       "      <td>0</td>\n",
       "      <td>0</td>\n",
       "      <td>0</td>\n",
       "      <td>0</td>\n",
       "      <td>0</td>\n",
       "      <td>0</td>\n",
       "      <td>0</td>\n",
       "      <td>...</td>\n",
       "      <td>0</td>\n",
       "      <td>0</td>\n",
       "      <td>0</td>\n",
       "      <td>0</td>\n",
       "      <td>0</td>\n",
       "      <td>0</td>\n",
       "      <td>0</td>\n",
       "      <td>0</td>\n",
       "      <td>0</td>\n",
       "      <td>0</td>\n",
       "    </tr>\n",
       "    <tr>\n",
       "      <th>2</th>\n",
       "      <td>1</td>\n",
       "      <td>0</td>\n",
       "      <td>0</td>\n",
       "      <td>0</td>\n",
       "      <td>0</td>\n",
       "      <td>0</td>\n",
       "      <td>0</td>\n",
       "      <td>0</td>\n",
       "      <td>0</td>\n",
       "      <td>0</td>\n",
       "      <td>...</td>\n",
       "      <td>0</td>\n",
       "      <td>0</td>\n",
       "      <td>0</td>\n",
       "      <td>0</td>\n",
       "      <td>0</td>\n",
       "      <td>0</td>\n",
       "      <td>0</td>\n",
       "      <td>0</td>\n",
       "      <td>0</td>\n",
       "      <td>0</td>\n",
       "    </tr>\n",
       "  </tbody>\n",
       "</table>\n",
       "<p>3 rows × 525 columns</p>\n",
       "</div>"
      ],
      "text/plain": [
       "   PUlocationID_-1.0  PUlocationID_1.0  PUlocationID_2.0  PUlocationID_3.0  \\\n",
       "0                  1                 0                 0                 0   \n",
       "1                  1                 0                 0                 0   \n",
       "2                  1                 0                 0                 0   \n",
       "\n",
       "   PUlocationID_4.0  PUlocationID_5.0  PUlocationID_6.0  PUlocationID_7.0  \\\n",
       "0                 0                 0                 0                 0   \n",
       "1                 0                 0                 0                 0   \n",
       "2                 0                 0                 0                 0   \n",
       "\n",
       "   PUlocationID_8.0  PUlocationID_9.0  ...  DOlocationID_256.0  \\\n",
       "0                 0                 0  ...                   0   \n",
       "1                 0                 0  ...                   0   \n",
       "2                 0                 0  ...                   0   \n",
       "\n",
       "   DOlocationID_257.0  DOlocationID_258.0  DOlocationID_259.0  \\\n",
       "0                   0                   0                   0   \n",
       "1                   0                   0                   0   \n",
       "2                   0                   0                   0   \n",
       "\n",
       "   DOlocationID_260.0  DOlocationID_261.0  DOlocationID_262.0  \\\n",
       "0                   0                   0                   0   \n",
       "1                   0                   0                   0   \n",
       "2                   0                   0                   0   \n",
       "\n",
       "   DOlocationID_263.0  DOlocationID_264.0  DOlocationID_265.0  \n",
       "0                   0                   0                   0  \n",
       "1                   0                   0                   0  \n",
       "2                   0                   0                   0  \n",
       "\n",
       "[3 rows x 525 columns]"
      ]
     },
     "execution_count": 14,
     "metadata": {},
     "output_type": "execute_result"
    }
   ],
   "source": [
    "X_train.head(3)"
   ]
  },
  {
   "cell_type": "code",
   "execution_count": 15,
   "id": "d8e8dcd2",
   "metadata": {},
   "outputs": [],
   "source": [
    "y_train = df_jan_21['duration_min']"
   ]
  },
  {
   "cell_type": "markdown",
   "id": "e50af49d",
   "metadata": {},
   "source": [
    "**Q5. Training a model**"
   ]
  },
  {
   "cell_type": "code",
   "execution_count": 16,
   "id": "cc096e88",
   "metadata": {},
   "outputs": [],
   "source": [
    "from sklearn.linear_model import LinearRegression\n",
    "from sklearn.metrics import mean_squared_error"
   ]
  },
  {
   "cell_type": "code",
   "execution_count": 17,
   "id": "b760dd6c",
   "metadata": {},
   "outputs": [],
   "source": [
    "lr = LinearRegression()"
   ]
  },
  {
   "cell_type": "code",
   "execution_count": 18,
   "id": "0b770a6c",
   "metadata": {},
   "outputs": [
    {
     "data": {
      "text/plain": [
       "LinearRegression()"
      ]
     },
     "execution_count": 18,
     "metadata": {},
     "output_type": "execute_result"
    }
   ],
   "source": [
    "# training model\n",
    "lr.fit(X_train, y_train)"
   ]
  },
  {
   "cell_type": "code",
   "execution_count": 19,
   "id": "909fa99a",
   "metadata": {},
   "outputs": [],
   "source": [
    "y_pred_tr = lr.predict(X_train)"
   ]
  },
  {
   "cell_type": "code",
   "execution_count": 20,
   "id": "bece9a10",
   "metadata": {},
   "outputs": [
    {
     "name": "stdout",
     "output_type": "stream",
     "text": [
      "RMSE on train: 10.529\n"
     ]
    }
   ],
   "source": [
    "print('RMSE on train: {:.3f}'.format(mean_squared_error(y_train, y_pred_tr, squared=False)))"
   ]
  },
  {
   "cell_type": "markdown",
   "id": "21c07d62",
   "metadata": {},
   "source": [
    "**Q6. Evaluating the model**"
   ]
  },
  {
   "cell_type": "code",
   "execution_count": 21,
   "id": "e08f0d7a",
   "metadata": {
    "scrolled": true
   },
   "outputs": [
    {
     "name": "stdout",
     "output_type": "stream",
     "text": [
      "(1037692, 7)\n"
     ]
    },
    {
     "data": {
      "text/html": [
       "<div>\n",
       "<style scoped>\n",
       "    .dataframe tbody tr th:only-of-type {\n",
       "        vertical-align: middle;\n",
       "    }\n",
       "\n",
       "    .dataframe tbody tr th {\n",
       "        vertical-align: top;\n",
       "    }\n",
       "\n",
       "    .dataframe thead th {\n",
       "        text-align: right;\n",
       "    }\n",
       "</style>\n",
       "<table border=\"1\" class=\"dataframe\">\n",
       "  <thead>\n",
       "    <tr style=\"text-align: right;\">\n",
       "      <th></th>\n",
       "      <th>dispatching_base_num</th>\n",
       "      <th>pickup_datetime</th>\n",
       "      <th>dropOff_datetime</th>\n",
       "      <th>PUlocationID</th>\n",
       "      <th>DOlocationID</th>\n",
       "      <th>SR_Flag</th>\n",
       "      <th>Affiliated_base_number</th>\n",
       "    </tr>\n",
       "  </thead>\n",
       "  <tbody>\n",
       "    <tr>\n",
       "      <th>0</th>\n",
       "      <td>B00013</td>\n",
       "      <td>2021-02-01 00:01:00</td>\n",
       "      <td>2021-02-01 01:33:00</td>\n",
       "      <td>NaN</td>\n",
       "      <td>NaN</td>\n",
       "      <td>None</td>\n",
       "      <td>B00014</td>\n",
       "    </tr>\n",
       "    <tr>\n",
       "      <th>1</th>\n",
       "      <td>B00021</td>\n",
       "      <td>2021-02-01 00:55:40</td>\n",
       "      <td>2021-02-01 01:06:20</td>\n",
       "      <td>173.0</td>\n",
       "      <td>82.0</td>\n",
       "      <td>None</td>\n",
       "      <td>B00021</td>\n",
       "    </tr>\n",
       "    <tr>\n",
       "      <th>2</th>\n",
       "      <td>B00021</td>\n",
       "      <td>2021-02-01 00:14:03</td>\n",
       "      <td>2021-02-01 00:28:37</td>\n",
       "      <td>173.0</td>\n",
       "      <td>56.0</td>\n",
       "      <td>None</td>\n",
       "      <td>B00021</td>\n",
       "    </tr>\n",
       "    <tr>\n",
       "      <th>3</th>\n",
       "      <td>B00021</td>\n",
       "      <td>2021-02-01 00:27:48</td>\n",
       "      <td>2021-02-01 00:35:45</td>\n",
       "      <td>82.0</td>\n",
       "      <td>129.0</td>\n",
       "      <td>None</td>\n",
       "      <td>B00021</td>\n",
       "    </tr>\n",
       "    <tr>\n",
       "      <th>4</th>\n",
       "      <td>B00037</td>\n",
       "      <td>2021-02-01 00:12:50</td>\n",
       "      <td>2021-02-01 00:26:38</td>\n",
       "      <td>NaN</td>\n",
       "      <td>225.0</td>\n",
       "      <td>None</td>\n",
       "      <td>B00037</td>\n",
       "    </tr>\n",
       "  </tbody>\n",
       "</table>\n",
       "</div>"
      ],
      "text/plain": [
       "  dispatching_base_num     pickup_datetime    dropOff_datetime  PUlocationID  \\\n",
       "0               B00013 2021-02-01 00:01:00 2021-02-01 01:33:00           NaN   \n",
       "1      B00021          2021-02-01 00:55:40 2021-02-01 01:06:20         173.0   \n",
       "2      B00021          2021-02-01 00:14:03 2021-02-01 00:28:37         173.0   \n",
       "3      B00021          2021-02-01 00:27:48 2021-02-01 00:35:45          82.0   \n",
       "4               B00037 2021-02-01 00:12:50 2021-02-01 00:26:38           NaN   \n",
       "\n",
       "   DOlocationID SR_Flag Affiliated_base_number  \n",
       "0           NaN    None                 B00014  \n",
       "1          82.0    None        B00021           \n",
       "2          56.0    None        B00021           \n",
       "3         129.0    None        B00021           \n",
       "4         225.0    None                 B00037  "
      ]
     },
     "execution_count": 21,
     "metadata": {},
     "output_type": "execute_result"
    }
   ],
   "source": [
    "# Validation_data\n",
    "df_feb_21 = pd.read_parquet('../data/fhv_tripdata_2021-02.parquet')\n",
    "\n",
    "print(df_feb_21.shape)\n",
    "df_feb_21.head()"
   ]
  },
  {
   "cell_type": "code",
   "execution_count": 22,
   "id": "ee0a24bc",
   "metadata": {},
   "outputs": [
    {
     "name": "stdout",
     "output_type": "stream",
     "text": [
      "(990113, 8)\n"
     ]
    },
    {
     "data": {
      "text/html": [
       "<div>\n",
       "<style scoped>\n",
       "    .dataframe tbody tr th:only-of-type {\n",
       "        vertical-align: middle;\n",
       "    }\n",
       "\n",
       "    .dataframe tbody tr th {\n",
       "        vertical-align: top;\n",
       "    }\n",
       "\n",
       "    .dataframe thead th {\n",
       "        text-align: right;\n",
       "    }\n",
       "</style>\n",
       "<table border=\"1\" class=\"dataframe\">\n",
       "  <thead>\n",
       "    <tr style=\"text-align: right;\">\n",
       "      <th></th>\n",
       "      <th>dispatching_base_num</th>\n",
       "      <th>pickup_datetime</th>\n",
       "      <th>dropOff_datetime</th>\n",
       "      <th>PUlocationID</th>\n",
       "      <th>DOlocationID</th>\n",
       "      <th>SR_Flag</th>\n",
       "      <th>Affiliated_base_number</th>\n",
       "      <th>duration_min</th>\n",
       "    </tr>\n",
       "  </thead>\n",
       "  <tbody>\n",
       "    <tr>\n",
       "      <th>0</th>\n",
       "      <td>B00021</td>\n",
       "      <td>2021-02-01 00:55:40</td>\n",
       "      <td>2021-02-01 01:06:20</td>\n",
       "      <td>173.0</td>\n",
       "      <td>82.0</td>\n",
       "      <td>None</td>\n",
       "      <td>B00021</td>\n",
       "      <td>10.6667</td>\n",
       "    </tr>\n",
       "    <tr>\n",
       "      <th>1</th>\n",
       "      <td>B00021</td>\n",
       "      <td>2021-02-01 00:14:03</td>\n",
       "      <td>2021-02-01 00:28:37</td>\n",
       "      <td>173.0</td>\n",
       "      <td>56.0</td>\n",
       "      <td>None</td>\n",
       "      <td>B00021</td>\n",
       "      <td>14.5667</td>\n",
       "    </tr>\n",
       "    <tr>\n",
       "      <th>2</th>\n",
       "      <td>B00021</td>\n",
       "      <td>2021-02-01 00:27:48</td>\n",
       "      <td>2021-02-01 00:35:45</td>\n",
       "      <td>82.0</td>\n",
       "      <td>129.0</td>\n",
       "      <td>None</td>\n",
       "      <td>B00021</td>\n",
       "      <td>7.9500</td>\n",
       "    </tr>\n",
       "    <tr>\n",
       "      <th>3</th>\n",
       "      <td>B00037</td>\n",
       "      <td>2021-02-01 00:12:50</td>\n",
       "      <td>2021-02-01 00:26:38</td>\n",
       "      <td>NaN</td>\n",
       "      <td>225.0</td>\n",
       "      <td>None</td>\n",
       "      <td>B00037</td>\n",
       "      <td>13.8000</td>\n",
       "    </tr>\n",
       "    <tr>\n",
       "      <th>4</th>\n",
       "      <td>B00037</td>\n",
       "      <td>2021-02-01 00:00:37</td>\n",
       "      <td>2021-02-01 00:09:35</td>\n",
       "      <td>NaN</td>\n",
       "      <td>61.0</td>\n",
       "      <td>None</td>\n",
       "      <td>B00037</td>\n",
       "      <td>8.9667</td>\n",
       "    </tr>\n",
       "  </tbody>\n",
       "</table>\n",
       "</div>"
      ],
      "text/plain": [
       "  dispatching_base_num     pickup_datetime    dropOff_datetime  PUlocationID  \\\n",
       "0      B00021          2021-02-01 00:55:40 2021-02-01 01:06:20         173.0   \n",
       "1      B00021          2021-02-01 00:14:03 2021-02-01 00:28:37         173.0   \n",
       "2      B00021          2021-02-01 00:27:48 2021-02-01 00:35:45          82.0   \n",
       "3               B00037 2021-02-01 00:12:50 2021-02-01 00:26:38           NaN   \n",
       "4               B00037 2021-02-01 00:00:37 2021-02-01 00:09:35           NaN   \n",
       "\n",
       "   DOlocationID SR_Flag Affiliated_base_number  duration_min  \n",
       "0          82.0    None        B00021                10.6667  \n",
       "1          56.0    None        B00021                14.5667  \n",
       "2         129.0    None        B00021                 7.9500  \n",
       "3         225.0    None                 B00037       13.8000  \n",
       "4          61.0    None                 B00037        8.9667  "
      ]
     },
     "execution_count": 22,
     "metadata": {},
     "output_type": "execute_result"
    }
   ],
   "source": [
    "# duration\n",
    "df_feb_21['duration_min'] = \\\n",
    "                round((df_feb_21['dropOff_datetime'] - df_feb_21['pickup_datetime']).dt.total_seconds() / 60, 4)\n",
    "\n",
    "df_feb_21 = df_feb_21[df_feb_21['duration_min'].between(1,60)].reset_index(drop=True)\n",
    "\n",
    "print(df_feb_21.shape)\n",
    "df_feb_21.head()"
   ]
  },
  {
   "cell_type": "code",
   "execution_count": 23,
   "id": "654b358b",
   "metadata": {
    "scrolled": true
   },
   "outputs": [
    {
     "name": "stdout",
     "output_type": "stream",
     "text": [
      "(990113, 526)\n"
     ]
    },
    {
     "data": {
      "text/html": [
       "<div>\n",
       "<style scoped>\n",
       "    .dataframe tbody tr th:only-of-type {\n",
       "        vertical-align: middle;\n",
       "    }\n",
       "\n",
       "    .dataframe tbody tr th {\n",
       "        vertical-align: top;\n",
       "    }\n",
       "\n",
       "    .dataframe thead th {\n",
       "        text-align: right;\n",
       "    }\n",
       "</style>\n",
       "<table border=\"1\" class=\"dataframe\">\n",
       "  <thead>\n",
       "    <tr style=\"text-align: right;\">\n",
       "      <th></th>\n",
       "      <th>PUlocationID_-1.0</th>\n",
       "      <th>PUlocationID_1.0</th>\n",
       "      <th>PUlocationID_2.0</th>\n",
       "      <th>PUlocationID_3.0</th>\n",
       "      <th>PUlocationID_4.0</th>\n",
       "      <th>PUlocationID_5.0</th>\n",
       "      <th>PUlocationID_6.0</th>\n",
       "      <th>PUlocationID_7.0</th>\n",
       "      <th>PUlocationID_8.0</th>\n",
       "      <th>PUlocationID_9.0</th>\n",
       "      <th>...</th>\n",
       "      <th>DOlocationID_256.0</th>\n",
       "      <th>DOlocationID_257.0</th>\n",
       "      <th>DOlocationID_258.0</th>\n",
       "      <th>DOlocationID_259.0</th>\n",
       "      <th>DOlocationID_260.0</th>\n",
       "      <th>DOlocationID_261.0</th>\n",
       "      <th>DOlocationID_262.0</th>\n",
       "      <th>DOlocationID_263.0</th>\n",
       "      <th>DOlocationID_264.0</th>\n",
       "      <th>DOlocationID_265.0</th>\n",
       "    </tr>\n",
       "  </thead>\n",
       "  <tbody>\n",
       "    <tr>\n",
       "      <th>0</th>\n",
       "      <td>0</td>\n",
       "      <td>0</td>\n",
       "      <td>0</td>\n",
       "      <td>0</td>\n",
       "      <td>0</td>\n",
       "      <td>0</td>\n",
       "      <td>0</td>\n",
       "      <td>0</td>\n",
       "      <td>0</td>\n",
       "      <td>0</td>\n",
       "      <td>...</td>\n",
       "      <td>0</td>\n",
       "      <td>0</td>\n",
       "      <td>0</td>\n",
       "      <td>0</td>\n",
       "      <td>0</td>\n",
       "      <td>0</td>\n",
       "      <td>0</td>\n",
       "      <td>0</td>\n",
       "      <td>0</td>\n",
       "      <td>0</td>\n",
       "    </tr>\n",
       "    <tr>\n",
       "      <th>1</th>\n",
       "      <td>0</td>\n",
       "      <td>0</td>\n",
       "      <td>0</td>\n",
       "      <td>0</td>\n",
       "      <td>0</td>\n",
       "      <td>0</td>\n",
       "      <td>0</td>\n",
       "      <td>0</td>\n",
       "      <td>0</td>\n",
       "      <td>0</td>\n",
       "      <td>...</td>\n",
       "      <td>0</td>\n",
       "      <td>0</td>\n",
       "      <td>0</td>\n",
       "      <td>0</td>\n",
       "      <td>0</td>\n",
       "      <td>0</td>\n",
       "      <td>0</td>\n",
       "      <td>0</td>\n",
       "      <td>0</td>\n",
       "      <td>0</td>\n",
       "    </tr>\n",
       "    <tr>\n",
       "      <th>2</th>\n",
       "      <td>0</td>\n",
       "      <td>0</td>\n",
       "      <td>0</td>\n",
       "      <td>0</td>\n",
       "      <td>0</td>\n",
       "      <td>0</td>\n",
       "      <td>0</td>\n",
       "      <td>0</td>\n",
       "      <td>0</td>\n",
       "      <td>0</td>\n",
       "      <td>...</td>\n",
       "      <td>0</td>\n",
       "      <td>0</td>\n",
       "      <td>0</td>\n",
       "      <td>0</td>\n",
       "      <td>0</td>\n",
       "      <td>0</td>\n",
       "      <td>0</td>\n",
       "      <td>0</td>\n",
       "      <td>0</td>\n",
       "      <td>0</td>\n",
       "    </tr>\n",
       "  </tbody>\n",
       "</table>\n",
       "<p>3 rows × 526 columns</p>\n",
       "</div>"
      ],
      "text/plain": [
       "   PUlocationID_-1.0  PUlocationID_1.0  PUlocationID_2.0  PUlocationID_3.0  \\\n",
       "0                  0                 0                 0                 0   \n",
       "1                  0                 0                 0                 0   \n",
       "2                  0                 0                 0                 0   \n",
       "\n",
       "   PUlocationID_4.0  PUlocationID_5.0  PUlocationID_6.0  PUlocationID_7.0  \\\n",
       "0                 0                 0                 0                 0   \n",
       "1                 0                 0                 0                 0   \n",
       "2                 0                 0                 0                 0   \n",
       "\n",
       "   PUlocationID_8.0  PUlocationID_9.0  ...  DOlocationID_256.0  \\\n",
       "0                 0                 0  ...                   0   \n",
       "1                 0                 0  ...                   0   \n",
       "2                 0                 0  ...                   0   \n",
       "\n",
       "   DOlocationID_257.0  DOlocationID_258.0  DOlocationID_259.0  \\\n",
       "0                   0                   0                   0   \n",
       "1                   0                   0                   0   \n",
       "2                   0                   0                   0   \n",
       "\n",
       "   DOlocationID_260.0  DOlocationID_261.0  DOlocationID_262.0  \\\n",
       "0                   0                   0                   0   \n",
       "1                   0                   0                   0   \n",
       "2                   0                   0                   0   \n",
       "\n",
       "   DOlocationID_263.0  DOlocationID_264.0  DOlocationID_265.0  \n",
       "0                   0                   0                   0  \n",
       "1                   0                   0                   0  \n",
       "2                   0                   0                   0  \n",
       "\n",
       "[3 rows x 526 columns]"
      ]
     },
     "execution_count": 23,
     "metadata": {},
     "output_type": "execute_result"
    }
   ],
   "source": [
    "# features\n",
    "df_feb_21[['PUlocationID', 'DOlocationID']] = df_feb_21[['PUlocationID', 'DOlocationID']].fillna(-1)\n",
    "\n",
    "X_valid = df_feb_21[['PUlocationID', 'DOlocationID']].copy()\n",
    "X_valid = pd.get_dummies(X_valid, columns=['PUlocationID', 'DOlocationID'])\n",
    "\n",
    "print(X_valid.shape)\n",
    "X_valid.head(3)"
   ]
  },
  {
   "cell_type": "code",
   "execution_count": 24,
   "id": "7493bd9c",
   "metadata": {},
   "outputs": [
    {
     "data": {
      "text/plain": [
       "{'DOlocationID_110.0'}"
      ]
     },
     "execution_count": 24,
     "metadata": {},
     "output_type": "execute_result"
    }
   ],
   "source": [
    "# X_valid has one extra column\n",
    "set(X_valid.columns) - set(X_train.columns)"
   ]
  },
  {
   "cell_type": "code",
   "execution_count": 25,
   "id": "4e05187d",
   "metadata": {},
   "outputs": [
    {
     "data": {
      "text/plain": [
       "(990113, 525)"
      ]
     },
     "execution_count": 25,
     "metadata": {},
     "output_type": "execute_result"
    }
   ],
   "source": [
    "# Drop extra column from valid \n",
    "train_col = X_train.columns\n",
    "X_valid = X_valid[train_col]\n",
    "\n",
    "X_valid.shape"
   ]
  },
  {
   "cell_type": "code",
   "execution_count": 26,
   "id": "c54b1384",
   "metadata": {
    "scrolled": true
   },
   "outputs": [],
   "source": [
    "# target\n",
    "y_valid = df_feb_21['duration_min']"
   ]
  },
  {
   "cell_type": "code",
   "execution_count": 27,
   "id": "05a0375d",
   "metadata": {},
   "outputs": [
    {
     "name": "stdout",
     "output_type": "stream",
     "text": [
      "RMSE on valid: 11.014\n"
     ]
    }
   ],
   "source": [
    "y_pred_val = lr.predict(X_valid)\n",
    "print('RMSE on valid: {:.3f}'.format(mean_squared_error(y_valid, y_pred_val, squared=False)))"
   ]
  },
  {
   "cell_type": "code",
   "execution_count": null,
   "id": "b091b548",
   "metadata": {},
   "outputs": [],
   "source": []
  }
 ],
 "metadata": {
  "kernelspec": {
   "display_name": "Python 3 (ipykernel)",
   "language": "python",
   "name": "python3"
  },
  "language_info": {
   "codemirror_mode": {
    "name": "ipython",
    "version": 3
   },
   "file_extension": ".py",
   "mimetype": "text/x-python",
   "name": "python",
   "nbconvert_exporter": "python",
   "pygments_lexer": "ipython3",
   "version": "3.8.9"
  }
 },
 "nbformat": 4,
 "nbformat_minor": 5
}
