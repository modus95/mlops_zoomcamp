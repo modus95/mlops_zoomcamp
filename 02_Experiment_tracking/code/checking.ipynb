{
 "cells": [
  {
   "cell_type": "code",
   "execution_count": 1,
   "metadata": {},
   "outputs": [],
   "source": [
    "import mlflow\n",
    "import pandas as pd\n",
    "\n",
    "from mlflow.entities import ViewType\n",
    "from mlflow.tracking import MlflowClient\n"
   ]
  },
  {
   "cell_type": "code",
   "execution_count": 2,
   "metadata": {},
   "outputs": [],
   "source": [
    "HPO_EXPERIMENT_NAME = \"random-forest-hyperopt\""
   ]
  },
  {
   "cell_type": "code",
   "execution_count": 3,
   "metadata": {},
   "outputs": [],
   "source": [
    "mlflow.set_tracking_uri(\"http://127.0.0.1:5000\")"
   ]
  },
  {
   "cell_type": "code",
   "execution_count": 4,
   "metadata": {},
   "outputs": [],
   "source": [
    "client = MlflowClient()"
   ]
  },
  {
   "cell_type": "code",
   "execution_count": 5,
   "metadata": {},
   "outputs": [],
   "source": [
    "log_top = 5"
   ]
  },
  {
   "cell_type": "code",
   "execution_count": 8,
   "metadata": {},
   "outputs": [
    {
     "data": {
      "text/plain": [
       "[<Run: data=<RunData: metrics={'rmse': 6.6284257482044735}, params={'max_depth': '19',\n",
       "  'min_samples_leaf': '3',\n",
       "  'min_samples_split': '5',\n",
       "  'n_estimators': '28',\n",
       "  'random_state': '42'}, tags={'mlflow.source.git.commit': '4e39a03d13b2c5f7c1bb05362bdf63a2dc38f923',\n",
       "  'mlflow.source.name': 'hpo.py',\n",
       "  'mlflow.source.type': 'LOCAL',\n",
       "  'mlflow.user': '19804808',\n",
       "  'model': 'RF'}>, info=<RunInfo: artifact_uri='./artifacts/2/9cef18ec137c452787fadb3465f6e101/artifacts', end_time=1653657752875, experiment_id='2', lifecycle_stage='active', run_id='9cef18ec137c452787fadb3465f6e101', run_uuid='9cef18ec137c452787fadb3465f6e101', start_time=1653657741352, status='FINISHED', user_id='19804808'>>,\n",
       " <Run: data=<RunData: metrics={'rmse': 6.629728007710133}, params={'max_depth': '20',\n",
       "  'min_samples_leaf': '2',\n",
       "  'min_samples_split': '3',\n",
       "  'n_estimators': '23',\n",
       "  'random_state': '42'}, tags={'mlflow.source.git.commit': '4e39a03d13b2c5f7c1bb05362bdf63a2dc38f923',\n",
       "  'mlflow.source.name': 'hpo.py',\n",
       "  'mlflow.source.type': 'LOCAL',\n",
       "  'mlflow.user': '19804808',\n",
       "  'model': 'RF'}>, info=<RunInfo: artifact_uri='./artifacts/2/bec92c926397436f9f4a7238ee538901/artifacts', end_time=1653657600600, experiment_id='2', lifecycle_stage='active', run_id='bec92c926397436f9f4a7238ee538901', run_uuid='bec92c926397436f9f4a7238ee538901', start_time=1653657590495, status='FINISHED', user_id='19804808'>>]"
      ]
     },
     "execution_count": 8,
     "metadata": {},
     "output_type": "execute_result"
    }
   ],
   "source": [
    "\n",
    "# retrieve the top_n model runs and log the models to MLflow\n",
    "experiment = client.get_experiment_by_name(HPO_EXPERIMENT_NAME)\n",
    "runs = client.search_runs(\n",
    "    experiment_ids=experiment.experiment_id,\n",
    "    run_view_type=ViewType.ACTIVE_ONLY,\n",
    "    max_results=log_top,\n",
    "    order_by=[\"metrics.rmse ASC\"]\n",
    ")\n",
    "\n",
    "runs[:2]"
   ]
  },
  {
   "cell_type": "code",
   "execution_count": 17,
   "metadata": {},
   "outputs": [
    {
     "data": {
      "text/plain": [
       "{'rmse': 6.6284257482044735}"
      ]
     },
     "execution_count": 17,
     "metadata": {},
     "output_type": "execute_result"
    }
   ],
   "source": [
    "runs[0].data.metrics"
   ]
  },
  {
   "cell_type": "code",
   "execution_count": 20,
   "metadata": {},
   "outputs": [
    {
     "name": "stdout",
     "output_type": "stream",
     "text": [
      "1. run_id - 9cef18ec137c452787fadb3465f6e101 rmse - 6.6284257482044735\n",
      "2. run_id - bec92c926397436f9f4a7238ee538901 rmse - 6.629728007710133\n",
      "3. run_id - 918d89c85e9a4203b650df6cc36a84e5 rmse - 6.629851022038263\n",
      "4. run_id - 34c4a3a037da4f11b049195bbf6eced7 rmse - 6.629851022038263\n",
      "5. run_id - d14cb2ffb8a3456b8020ca34e72a0d82 rmse - 6.629893219637507\n"
     ]
    }
   ],
   "source": [
    "for i,run in enumerate(runs):\n",
    "    print(f'{i+1}. run_id - {run.info.run_id} rmse - {run.data.metrics[\"rmse\"]}')"
   ]
  },
  {
   "cell_type": "markdown",
   "metadata": {},
   "source": [
    "---"
   ]
  },
  {
   "cell_type": "code",
   "execution_count": 21,
   "metadata": {},
   "outputs": [
    {
     "name": "stdout",
     "output_type": "stream",
     "text": [
      "version: 1, stage: None\n"
     ]
    }
   ],
   "source": [
    "model_name = \"green-taxi-regressor\"\n",
    "latest_versions = client.get_latest_versions(name=model_name)\n",
    "\n",
    "for version in latest_versions:\n",
    "    print(f\"version: {version.version}, stage: {version.current_stage}\")"
   ]
  },
  {
   "cell_type": "code",
   "execution_count": 22,
   "metadata": {},
   "outputs": [
    {
     "data": {
      "text/plain": [
       "<ModelVersion: creation_timestamp=1653662365475, current_stage='Staging', description='', last_updated_timestamp=1653665679956, name='green-taxi-regressor', run_id='94b8b6256dfc4d2cbe9bd3a17120caa4', run_link='', source='./artifacts/3/94b8b6256dfc4d2cbe9bd3a17120caa4/artifacts/model', status='READY', status_message='', tags={}, user_id='', version='1'>"
      ]
     },
     "execution_count": 22,
     "metadata": {},
     "output_type": "execute_result"
    }
   ],
   "source": [
    "model_version = 1\n",
    "new_stage = \"Staging\"\n",
    "client.transition_model_version_stage(\n",
    "    name=model_name,\n",
    "    version=model_version,\n",
    "    stage=new_stage,\n",
    "    archive_existing_versions=False\n",
    ")"
   ]
  },
  {
   "cell_type": "code",
   "execution_count": null,
   "metadata": {},
   "outputs": [],
   "source": []
  }
 ],
 "metadata": {
  "interpreter": {
   "hash": "31f2aee4e71d21fbe5cf8b01ff0e069b9275f58929596ceb00d14d90e3e16cd6"
  },
  "kernelspec": {
   "display_name": "Python 3.8.9 64-bit",
   "language": "python",
   "name": "python3"
  },
  "language_info": {
   "codemirror_mode": {
    "name": "ipython",
    "version": 3
   },
   "file_extension": ".py",
   "mimetype": "text/x-python",
   "name": "python",
   "nbconvert_exporter": "python",
   "pygments_lexer": "ipython3",
   "version": "3.8.9"
  },
  "orig_nbformat": 4
 },
 "nbformat": 4,
 "nbformat_minor": 2
}
